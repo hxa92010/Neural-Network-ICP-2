{
 "cells": [
  {
   "cell_type": "code",
   "execution_count": 2,
   "metadata": {},
   "outputs": [
    {
     "name": "stdout",
     "output_type": "stream",
     "text": [
      "Enter first name:Harika \n",
      "Enter last name:Aliza\n",
      "Full name is: Harika Aliza\n"
     ]
    }
   ],
   "source": [
    "First_name = input(\"Enter first name:\")\n",
    "Last_name = input(\"Enter last name:\")\n",
    "Full_name = First_name + Last_name\n",
    "print(\"Full name is:\", Full_name)\n"
   ]
  },
  {
   "cell_type": "code",
   "execution_count": 4,
   "metadata": {},
   "outputs": [
    {
     "name": "stdout",
     "output_type": "stream",
     "text": [
      "Enter String: Good Evening\n",
      "Go vnn\n"
     ]
    }
   ],
   "source": [
    "str= input(\"Enter String: \")\n",
    "def string_alternative(str):\n",
    "    final_string = (str[ : : 2])\n",
    "    return print(final_string)\n",
    "string_alternative(str)"
   ]
  },
  {
   "cell_type": "code",
   "execution_count": 10,
   "metadata": {},
   "outputs": [
    {
     "name": "stdout",
     "output_type": "stream",
     "text": [
      "Python Course\n",
      "Deep Learning Course\n",
      "Number of Words in the file:\n",
      " Counter({'Course': 2, 'Python': 1, 'Deep': 1, 'Learning': 1})\n"
     ]
    }
   ],
   "source": [
    "f=open(\"input.txt\", \"w\")\n",
    "f.write(\"Python Course\\n\")\n",
    "f.write(\"Deep Learning Course\")\n",
    "f.close()\n",
    "f=open(\"input.txt\", \"r\")\n",
    "print(f.read())\n",
    "f.close()\n",
    "\n",
    "from collections import Counter \n",
    "def count_words(filename):\n",
    "    with open(filename) as f:\n",
    "        return Counter(f.read().split())\n",
    "\n",
    "with open(\"output.txt\", \"a\") as f:\n",
    "    print(\"Number of Words in the file:\\n\", count_words(\"input.txt\"))"
   ]
  },
  {
   "cell_type": "code",
   "execution_count": null,
   "metadata": {},
   "outputs": [
    {
     "name": "stdout",
     "output_type": "stream",
     "text": [
      "150 155 145 148\n",
      "[381.0, 393.7, 368.3, 375.92]\n"
     ]
    }
   ],
   "source": [
    "L1=list(map(float,input().split()))\n",
    "L2=[]\n",
    "for i in L1:\n",
    "    i=i*2.54\n",
    "    L2.append(i)\n",
    "print(L2)\n",
    "\n",
    "L1=list(map(float,input().split()))\n",
    "L2=[i*2.54 for i in L1]\n",
    "print(L2)"
   ]
  },
  {
   "cell_type": "code",
   "execution_count": null,
   "metadata": {},
   "outputs": [],
   "source": []
  }
 ],
 "metadata": {
  "kernelspec": {
   "display_name": "Python 3",
   "language": "python",
   "name": "python3"
  },
  "language_info": {
   "codemirror_mode": {
    "name": "ipython",
    "version": 3
   },
   "file_extension": ".py",
   "mimetype": "text/x-python",
   "name": "python",
   "nbconvert_exporter": "python",
   "pygments_lexer": "ipython3",
   "version": "3.7.4"
  }
 },
 "nbformat": 4,
 "nbformat_minor": 2
}
